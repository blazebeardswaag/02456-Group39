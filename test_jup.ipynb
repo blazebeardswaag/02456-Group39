{
 "cells": [
  {
   "cell_type": "code",
   "execution_count": null,
   "metadata": {},
   "outputs": [],
   "source": []
  },
  {
   "cell_type": "code",
   "execution_count": null,
   "metadata": {},
   "outputs": [
    {
     "name": "stdout",
     "output_type": "stream",
     "text": [
      "model_input shape: torch.Size([1, 3, 32, 32])\n",
      "t_tensor shape: torch.Size([1])\n"
     ]
    }
   ],
   "source": [
    "from DiffusionModel import DenoisingDiffusion\n",
    "\n",
    "\n",
    "den = DenoisingDiffusion(\"cifar\", \"cpu\") \n",
    "\n",
    "den.show_diffusion(1)"
   ]
  }
 ],
 "metadata": {
  "kernelspec": {
   "display_name": "myenv",
   "language": "python",
   "name": "python3"
  },
  "language_info": {
   "codemirror_mode": {
    "name": "ipython",
    "version": 3
   },
   "file_extension": ".py",
   "mimetype": "text/x-python",
   "name": "python",
   "nbconvert_exporter": "python",
   "pygments_lexer": "ipython3",
   "version": "3.11.9"
  }
 },
 "nbformat": 4,
 "nbformat_minor": 2
}
